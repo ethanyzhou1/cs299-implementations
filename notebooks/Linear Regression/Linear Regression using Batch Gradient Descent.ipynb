{
 "cells": [
  {
   "cell_type": "markdown",
   "id": "4eacc5ae-7ca7-4a54-9de6-01264b923190",
   "metadata": {},
   "source": [
    "# Linear Regression using Batch Gradient Descent\n",
    "\n",
    "This project provides an implementation of a **Linear Regression** model, following Stanford CS299 lecture. The primary goal is to find the best parameters (theta) that define the line of best fit for a given dataset.\n",
    "\n",
    "The model uses the **Batch Gradient Descent** algorithm to minimize the **Least-Squares Cost Function**.\n",
    "\n",
    "Variables:\n",
    "* $n$ is the number of features.\n",
    "* $m$ is the number of training examples.\n",
    "* $\\mathbf{\\theta}$ is the parameters, an $(n+1)$-dimensional vector, where $\\mathbf{\\theta}_0$ is the bias.\n",
    "* $\\mathbf{x}^{(i)}$ is the features, an $(n+1)$-dimensional vector.\n",
    "* $y^{(i)}$ is the actual target value for the $i^{th}$ example.\n",
    "* $J(\\theta)$ is the cost function.\n",
    "* $\\alpha$ is the learning rate.\n",
    "\n",
    "Notes:\n",
    "* Choosing $\\alpha$ is important to make gradient descent works in practice. If $\\alpha$ is too large, the algorithm can overshoot the minimum. If $\\alpha$ is too small, the algorithm will be too slow.\n",
    "\n",
    "Advantages:\n",
    "* A very roboust supervised learning algorithm. Less complicated than other learning algorithm. Easy to debug.\n",
    "* The sum of square is a good choice of cost function because in this case, the local minimum of $J$ is the same as the global minimum of $J$. Hence there is less convergence issues.\n",
    "\n",
    "Disvantages:\n",
    "* Poor performance vs. other supervised learning algorithms if the dataset satisfies other assumptions.\n",
    "\n",
    "Disvantages of Batch:\n",
    "* Can be very slow if the size of training examples is large. This can be remedied by using stochastic gradient descent.\n",
    "\n",
    "TODO:\n",
    "- [] Add more practical usage tips."
   ]
  },
  {
   "cell_type": "markdown",
   "id": "7e6f67fa-6917-4ce2-b46a-e6c39aed06af",
   "metadata": {},
   "source": [
    "## Assumptions on Using Linear Regression\n",
    "Probabilistically, the ideal scenario to use linear regression with the least-squares cost function is when the dataset satisfies the following assumptions:\n",
    "* There is a **true** value satisfies a **linear** relationship with the data $$y = \\mathbf{\\theta} \\cdot \\mathbf{x} + \\epsilon,$$ where $\\epsilon$ is the error term, including unmodelled effect and random noise.\n",
    "* The error term $\\epsilon$ has **Gaussian distribution** with mean $0$ and variance $\\sigma^2$.\n",
    "* The error terms are distributed independent and identically distributed.\n",
    "\n",
    "Under the above assumption, it can be shown mathematically that the result of linear regression gives the best parameter $\\theta$ such that the probability\n",
    "$$\\mathbb{P}(y \\ |\\ \\mathbf{x}; \\theta)$$\n",
    "is maximized.\n",
    "\n",
    "TODO:\n",
    "- [] Add an example."
   ]
  },
  {
   "cell_type": "code",
   "execution_count": 13,
   "id": "9069be2a-521b-4800-ae2e-ec1569033fbd",
   "metadata": {},
   "outputs": [],
   "source": [
    "import math, copy\n",
    "import numpy as np\n",
    "from numpy import ndarray\n",
    "import matplotlib.pyplot as plt"
   ]
  },
  {
   "cell_type": "markdown",
   "id": "4284689f-e8ab-4193-aae3-32a23e2d40fb",
   "metadata": {},
   "source": [
    "### The Least-Squares Cost Function\n",
    "\n",
    "The cost function chosen here is the least-squares cost function. The formula is:\n",
    "$$J(\\theta) = \\frac{1}{2} \\sum_{i=1}^{m} (h_{\\mathbf{\\theta}}(\\mathbf{x}^{(i)}) - y^{(i)})^2$$\n",
    "\n",
    "Note:\n",
    "* The sum of square is a good choice of cost function because in this case, the local minimum of J is the same as the global minimum of J.\n",
    "\n",
    "Where:\n",
    "* $\\frac{1}{2}$ is the standard coefficient to avoid constant in the gradient.\n",
    "* $J(\\theta)$ is the cost function.\n",
    "* $n$ is the number of features.\n",
    "* $m$ is the number of training examples.\n",
    "* $\\mathbf{x}^{(i)}$ is the features, an $(n+1)$-dimensional vector, where we set $x_0 = 1$.\n",
    "* $\\mathbf{\\theta}$ is the parameters, an $(n+1)$-dimensional vector, where $\\mathbf{\\theta}_0$ is the bias.\n",
    "* $h_{\\mathbf{\\theta}}(\\mathbf{x}^{(i)}) = \\mathbf{\\theta} \\cdot \\mathbf{x}^{(i)}$ is the model's prediction for the $i^{th}$ example.\n",
    "* $y^{(i)}$ is the actual target value for the $i^{th}$ example.\n",
    "\n",
    "Complexity:\n",
    "* Time: $O(m*n)$\n",
    "* Space: $O(1)$"
   ]
  },
  {
   "cell_type": "code",
   "execution_count": 25,
   "id": "92bf77df-9b42-474d-a4cb-689396356a1d",
   "metadata": {},
   "outputs": [],
   "source": [
    "def compute_least_square_cost(x: ndarray, y: ndarray, theta: ndarray):\n",
    "    \"\"\"\n",
    "    Computes the least-squares cost function J\n",
    "    Args:\n",
    "        x (ndarray (m,n+1))       : features, m examples, n features \n",
    "        y (ndarray (m, ))         : target values, m examples\n",
    "        theta (ndarray (n+1, ))   : parameters [theta_0 (bias), theta_1, ... theta_n]\n",
    "\n",
    "    Returns:\n",
    "        float: The value of the cost function J.\n",
    "\n",
    "    Complexity:\n",
    "        Time: O(m*n)\n",
    "        Space: O(1) auxiliary\n",
    "\n",
    "    Notes:\n",
    "        This implementation uses a for-loop for readability. A faster computation\n",
    "        can be achieved using NumPy's vector operation.\n",
    "    \"\"\"\n",
    "    \n",
    "    (m, num_parameters) = x.shape\n",
    "    cost = 0\n",
    "\n",
    "    for i in range(m):\n",
    "        h = theta @ x[i] # Prediction. Time: O(n)\n",
    "        cost = cost + (h - y[i])**2 \n",
    "\n",
    "    cost = (1/2) * cost\n",
    "    return cost\n",
    "        "
   ]
  },
  {
   "cell_type": "markdown",
   "id": "0c48f81b-c4ff-43b6-9587-3c9ccdca10a4",
   "metadata": {},
   "source": [
    "### Future Work\n",
    "- [] Create an optimized compute_least_square_cost_vectorized function that uses NumPy operations instead of a for-loop. The current version should be kept for its readability.\n",
    "- [] Might consider using Mean Square Error (MSE) with coefficient $\\frac{1}{2m}$."
   ]
  },
  {
   "cell_type": "markdown",
   "id": "2664fe9a-bff6-491a-a57b-46c776f9129f",
   "metadata": {},
   "source": [
    "## Gradient of the Least-Squares Cost function\n",
    "\n",
    "Here we compute the gradient of the least square cost function. The formula is:\n",
    "$$\n",
    "\\frac{\\partial J}{\\partial \\theta_j} = \\sum_{i=1}^{m} \\left( \\  (h_{\\mathbf{\\theta}}(\\mathbf{x}^{(i)}) - y^{(i)}) \\cdot x_j^{(i)} \\  \\right)\n",
    "$$\n",
    "\n",
    "Note:\n",
    "* As we chooe the coefficient $\\frac{1}{2}$ in our least square formula, we can avoid a coefficient in the gradient.\n",
    "\n",
    "Where:\n",
    "* $J(\\theta)$ is the cost function.\n",
    "* $n$ is the number of features.\n",
    "* $m$ is the number of training examples.\n",
    "* $\\mathbf{x}^{(i)}$ is the features, an $(n+1)$-dimensional vector, where we set $x_0 = 1$.\n",
    "* $\\mathbf{\\theta}$ is the parameters, an $(n+1)$-dimensional vector, where $\\mathbf{\\theta}_0$ is the bias.\n",
    "* $h_{\\mathbf{\\theta}}(\\mathbf{x}^{(i)}) = \\mathbf{\\theta} \\cdot \\mathbf{x}^{(i)}$ is the model's prediction for the $i^{th}$ example.\n",
    "* $y^{(i)}$ is the actual target value for the $i^{th}$ example.\n",
    "\n",
    "Implementation Note:\n",
    "* We want to swap i and j in the nested the for-loop to avoid duplicate computation of h"
   ]
  },
  {
   "cell_type": "code",
   "execution_count": 23,
   "id": "ca3704e6-6f48-4fe0-81cd-08175cf93998",
   "metadata": {},
   "outputs": [],
   "source": [
    "def compute_least_square_gradient(x: ndarray, y: ndarray, theta: ndarray):\n",
    "    \"\"\"\n",
    "    Computes the gradient for the least square cost function J.\n",
    "\n",
    "    Args:\n",
    "        x (ndarray (m,n+1))       : features, m examples, n features \n",
    "        y (ndarray (m,))          : target values, m examples\n",
    "        theta (ndarray (n+1,))    : parameters [theta_0 (bias), theta_1, ... theta_n]\n",
    "\n",
    "    Return:\n",
    "        (ndarray (n+1,)): n+1 coefficients for the gradient vector of J\n",
    "    \n",
    "    Complexity:\n",
    "        Time: O(m*n)\n",
    "        Space: O(1) auxiliary\n",
    "\n",
    "    Notes:\n",
    "        This implementation uses a for-loop for readability. A faster computation\n",
    "        can be achieved using NumPy's vector operation.\n",
    "    \"\"\"\n",
    "\n",
    "    m, num_parameters = x.shape\n",
    "    dj_dtheta = np.zeros(num_parameters) # Gradient vector of J\n",
    "\n",
    "    # The loop i and j are swapped to reduced duplicate computation of h\n",
    "    for i in range(m):\n",
    "        h = theta @ x[i] # Prediction. Time: O(n)\n",
    "        \n",
    "        for j in range(num_parameters):\n",
    "            dj_dtheta[j] = (h - y[i]) * x[i, j]\n",
    "\n",
    "    return dj_dtheta\n",
    "         "
   ]
  },
  {
   "cell_type": "markdown",
   "id": "d3569e1c-eef3-45d6-92b4-2333abf26e5f",
   "metadata": {},
   "source": [
    "**Inefficient Implementation (For Reference):**\n",
    "```python\n",
    "\"\"\"\n",
    "put i as the inner loop add duplicate computation of h\n",
    "\"\"\"\n",
    "for j in range(num_parameters):\n",
    "    for i in range(m):\n",
    "        h = theta @ x[i]\n",
    "        dj_dtheta[j] = (dj_dtheta[j] - y[i]) * x[i,j]\n",
    "```"
   ]
  },
  {
   "cell_type": "markdown",
   "id": "8ca57215-1821-4257-85a3-352f5e367be3",
   "metadata": {},
   "source": [
    "### Future Work\n",
    "- [] Note that if we invoke both the compute_least_square_cost and compute_least_square_gradient function in each iteration of gradient descent, we need to do the expensive computation $\\mathbf{\\theta} \\cdot \\mathbf{x}^{(i)} - y^{(i)}$ twice. Can improve this linear regression algorithm by using a different structure to avoid the duplicate computation.\n",
    "- [] Create an optimized vectorized version that uses NumPy vector operations instead of a for-loop. The current version should be kept for its readability."
   ]
  },
  {
   "cell_type": "markdown",
   "id": "d193dd32-c87a-4f7f-9ff5-4912fd0e205d",
   "metadata": {},
   "source": [
    "## Batch Gradient Descent using Least-Squares Cost Function\n",
    "\n",
    "Here we use the least-squares cost function to implement the gradient descent algorithm for linear regression. We update the parameters as follows, in a given number of iteration:\n",
    "\n",
    "$$\\theta_j := \\theta_j - \\alpha \\frac{\\partial J}{\\partial \\theta_j}$$\n",
    "\n",
    "Where:\n",
    "* $\\alpha$ is the learning rate.\n",
    "* $J(\\theta)$ is the cost function.\n",
    "* $n$ is the number of features.\n",
    "* $m$ is the number of training examples.\n",
    "* $\\mathbf{x}^{(i)}$ is the features, an $(n+1)$-dimensional vector, where we set $x_0 = 1$.\n",
    "* $\\mathbf{\\theta}$ is the parameters, an $(n+1)$-dimensional vector, where $\\mathbf{\\theta}_0$ is the bias.\n",
    "* $h_{\\mathbf{\\theta}}(\\mathbf{x}^{(i)}) = \\mathbf{\\theta} \\cdot \\mathbf{x}^{(i)}$ is the model's prediction for the $i^{th}$ example.\n",
    "* $y^{(i)}$ is the actual target value for the $i^{th}$ example.\n",
    "\n",
    "Note:\n",
    "* Choosing $\\alpha$ is important to make gradient descent works in practice. If $\\alpha$ is too large, the algorithm can overshoot the minimum. If $\\alpha$ is too small, the algorithm will be too slow.\n",
    "* Here for the ease of implementation, we chooes to fix the number of iteration. One can improve this algorithm by checking if the parameters has converged. Several ways to checking convergence are (1) looking at the update rate; (2) checking if gradient is zero; or (3) using a combination of (1) and (2)."
   ]
  },
  {
   "cell_type": "code",
   "execution_count": 18,
   "id": "6cd1922b-b4a6-429d-bc7e-c9de612265eb",
   "metadata": {},
   "outputs": [],
   "source": [
    "def gradient_descent(x: ndarray, \n",
    "                     y: ndarray, \n",
    "                     theta, alpha, num_iters, \n",
    "                     cost_function, \n",
    "                     gradient_function):\n",
    "    \"\"\"\n",
    "    Performs gradient descent to fit parameter theta. Updates theta by taking \n",
    "    num_iters gradient steps with learning rate alpha\n",
    "    \n",
    "    Args:\n",
    "        x (ndarray (m,n+1))       : features, m examples, n features \n",
    "        y (ndarray (m,))          : target values, m examples\n",
    "        theta (ndarray (n+1,))    : parameters [theta_0 (bias), theta_1, ... theta_n]\n",
    "        alpha (float)             : learning rate\n",
    "        num_iters (int)           : number of iterations to run gradient descent\n",
    "        cost_function             : function to call to produce cost\n",
    "        gradient_function         : function to call to produce gradient\n",
    "      \n",
    "    Returns:\n",
    "        theta     : Updated value of parameter after running gradient descent\n",
    "        J_history : A list to store cost J for every iteration\n",
    "\n",
    "    Complexity:\n",
    "        time: O(num_iters * n * m)\n",
    "      \"\"\"\n",
    "    \n",
    "    J_history = []\n",
    "    \n",
    "    for i in range(num_iters):\n",
    "        # Computes gradient and update theta using learning rate alpha\n",
    "        gradient = gradient_function(x, y, theta)\n",
    "        theta = theta - alpha * gradient\n",
    "\n",
    "        # Save the cost J in every iteration\n",
    "        cost = cost_function(x, y, theta)\n",
    "        J_history.append(cost)\n",
    "\n",
    "    return theta, J_history\n",
    "    "
   ]
  },
  {
   "cell_type": "markdown",
   "id": "ff628ca9-ae95-4348-9897-5118a60159da",
   "metadata": {},
   "source": [
    "## Future Work\n",
    "- [] Implement stochastic gradient descent."
   ]
  },
  {
   "cell_type": "markdown",
   "id": "51fbebc6-4e90-4782-8cea-f312b7c53e63",
   "metadata": {},
   "source": [
    "# Testing\n",
    "We use the following AI-generated code for testing and visualization."
   ]
  },
  {
   "cell_type": "markdown",
   "id": "71ca46f8-1b1e-43ae-aecc-0e830a351420",
   "metadata": {},
   "source": [
    "## Generate random data"
   ]
  },
  {
   "cell_type": "code",
   "execution_count": 37,
   "id": "631711f4-f4f5-4a9a-a080-3bbf07b3582c",
   "metadata": {},
   "outputs": [
    {
     "data": {
      "image/png": "[encoded data removed]",
      "text/plain": [
       "<Figure size 640x480 with 1 Axes>"
      ]
     },
     "metadata": {},
     "output_type": "display_data"
    }
   ],
   "source": [
    "# Initialize number of features n and the number of training set m\n",
    "m = 20\n",
    "n = 1\n",
    "\n",
    "# Generate some synthetic data\n",
    "np.random.seed(42) # for reproducibility\n",
    "x_train_simple = np.arange(0, m, 1)\n",
    "y_train_simple = 2 * x_train_simple + 1 + np.random.randn(len(x_train_simple)) * 3\n",
    "\n",
    "# Add a column of ones to x for the bias term (theta_0)\n",
    "X_train = np.c_[np.ones(len(x_train_simple)), x_train_simple]\n",
    "y_train = y_train_simple\n",
    "\n",
    "# Create a scatter plot of the data\n",
    "plt.scatter(x_train_simple, y_train_simple, marker='x', color='r')\n",
    "plt.title(\"Randomly Generated Data\")\n",
    "plt.xlabel(\"Feature\")\n",
    "plt.ylabel(\"Target\")\n",
    "plt.show()"
   ]
  },
  {
   "cell_type": "markdown",
   "id": "450175f0-88f0-450a-93d9-0d0664c496bd",
   "metadata": {},
   "source": [
    "## --- 1. Initialize Parameters ---"
   ]
  },
  {
   "cell_type": "code",
   "execution_count": 44,
   "id": "67eddbeb-6017-446f-8068-3df66982ea86",
   "metadata": {},
   "outputs": [],
   "source": [
    "# Initialize parameters for the gradient descent function\n",
    "initial_theta = np.zeros(X_train.shape[1]) # Starting from zeros since the cost function is convex\n",
    "iterations = 1500\n",
    "alpha = 0.0001"
   ]
  },
  {
   "cell_type": "markdown",
   "id": "6b885441-3773-4978-b23f-9840edc09d0b",
   "metadata": {},
   "source": [
    "## --- 2. Run Gradient Descent ---"
   ]
  },
  {
   "cell_type": "code",
   "execution_count": 45,
   "id": "6577b44f-4235-4391-ba49-62bc99ede412",
   "metadata": {},
   "outputs": [
    {
     "name": "stdout",
     "output_type": "stream",
     "text": [
      "Final theta found by gradient descent: [0.09603063 1.82458201]\n"
     ]
    }
   ],
   "source": [
    "# These variables should already be defined from your previous cell\n",
    "# X_train, y_train, initial_theta, alpha, iterations\n",
    "\n",
    "# Call your gradient descent function to learn the parameters\n",
    "theta, J_history = gradient_descent(X_train, y_train, initial_theta, alpha, iterations, \n",
    "                                    compute_least_square_cost, \n",
    "                                    compute_least_square_gradient)\n",
    "\n",
    "print(\"Final theta found by gradient descent:\", theta)"
   ]
  },
  {
   "cell_type": "markdown",
   "id": "268b348e-57f9-4a57-af9b-44b1c756fa38",
   "metadata": {},
   "source": [
    "## --- 3. Visualize the Results ---"
   ]
  },
  {
   "cell_type": "code",
   "execution_count": 46,
   "id": "90a8385b-23f3-4b97-a469-3b61dfa45b7b",
   "metadata": {},
   "outputs": [
    {
     "data": {
      "image/png": "[encoded data removed]",
      "text/plain": [
       "<Figure size 1200x500 with 2 Axes>"
      ]
     },
     "metadata": {},
     "output_type": "display_data"
    }
   ],
   "source": [
    "# Plot 1: Cost per Iteration\n",
    "plt.figure(figsize=(12, 5))\n",
    "\n",
    "plt.subplot(1, 2, 1) # 1 row, 2 columns, 1st subplot\n",
    "plt.plot(J_history)\n",
    "plt.xlabel(\"Iteration\")\n",
    "plt.ylabel(\"Cost J\")\n",
    "plt.title(\"Cost per Iteration\")\n",
    "\n",
    "# Plot 2: Linear Fit on the Data\n",
    "plt.subplot(1, 2, 2) # 1 row, 2 columns, 2nd subplot\n",
    "plt.scatter(X_train[:, 1], y_train, marker='x', color='red', label='Actual Values')\n",
    "\n",
    "# Calculate the predictions from your model\n",
    "predictions = X_train @ theta\n",
    "\n",
    "# Plot the regression line\n",
    "plt.plot(X_train[:, 1], predictions, label='Linear Fit')\n",
    "plt.xlabel(\"Feature\")\n",
    "plt.ylabel(\"Target\")\n",
    "plt.title(\"Data and Linear Fit\")\n",
    "plt.legend()\n",
    "\n",
    "plt.tight_layout() # Adjusts plots to prevent overlap\n",
    "plt.show()"
   ]
  },
  {
   "cell_type": "code",
   "execution_count": null,
   "id": "789dafaa-771c-495a-8a7b-cb30c660b195",
   "metadata": {},
   "outputs": [],
   "source": []
  }
 ],
 "metadata": {
  "kernelspec": {
   "display_name": "cs299-projects",
   "language": "python",
   "name": "cs299-projects"
  },
  "language_info": {
   "codemirror_mode": {
    "name": "ipython",
    "version": 3
   },
   "file_extension": ".py",
   "mimetype": "text/x-python",
   "name": "python",
   "nbconvert_exporter": "python",
   "pygments_lexer": "ipython3",
   "version": "3.13.3"
  }
 },
 "nbformat": 4,
 "nbformat_minor": 5
}
